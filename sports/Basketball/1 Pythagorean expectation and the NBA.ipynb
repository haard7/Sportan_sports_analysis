{
 "cells": [
  {
   "cell_type": "markdown",
   "metadata": {},
   "source": [
    "# Pythagorean Expectation and the NBA\n",
    "\n",
    "The NBA is the most popular basketball league in the world, and consists of 30 teams playing an 82 game regular season followed by playoffs to determine the champion. In terms of scale, this data looks much more like MLB data than the IPL data we just looked at. \n",
    "\n",
    "Basketball resembles cricket in one way - the scores are much higher than in baseball. However, the points difference between winning and losing teams tend to be relatively small.\n",
    "\n",
    "Let's see what we find this time. We follow the same procedure."
   ]
  },
  {
   "cell_type": "code",
   "execution_count": 2,
   "metadata": {},
   "outputs": [],
   "source": [
    "# Load the packages\n",
    "\n",
    "import pandas as pd\n",
    "import numpy as np\n",
    "import statsmodels.formula.api as smf\n",
    "import matplotlib.pyplot as plt\n",
    "import seaborn as sns"
   ]
  },
  {
   "cell_type": "code",
   "execution_count": 3,
   "metadata": {},
   "outputs": [
    {
     "name": "stdout",
     "output_type": "stream",
     "text": [
      "<class 'pandas.core.frame.DataFrame'>\n",
      "RangeIndex: 18416 entries, 0 to 18415\n",
      "Data columns (total 35 columns):\n",
      " #   Column             Non-Null Count  Dtype  \n",
      "---  ------             --------------  -----  \n",
      " 0   CITY               18414 non-null  object \n",
      " 1   TEAM_NAME          18414 non-null  object \n",
      " 2   TEAM_ID            18414 non-null  float64\n",
      " 3   GAME_ID            18414 non-null  float64\n",
      " 4   NICKNAME           18414 non-null  object \n",
      " 5   STATE              18414 non-null  object \n",
      " 6   YEAR_FOUNDED       18414 non-null  float64\n",
      " 7   SEASON_ID          18414 non-null  float64\n",
      " 8   TEAM_ABBREVIATION  18414 non-null  object \n",
      " 9   GAME_DATE          18414 non-null  object \n",
      " 10  MATCHUP            18414 non-null  object \n",
      " 11  WL                 18414 non-null  object \n",
      " 12  MIN                18414 non-null  float64\n",
      " 13  PTS                18414 non-null  float64\n",
      " 14  PTSAGN             17778 non-null  float64\n",
      " 15  FGM                18414 non-null  float64\n",
      " 16  FGA                18414 non-null  float64\n",
      " 17  FG_PCT             18414 non-null  float64\n",
      " 18  FG3M               18414 non-null  float64\n",
      " 19  FG3A               18414 non-null  float64\n",
      " 20  FG3_PCT            18414 non-null  float64\n",
      " 21  FTM                18414 non-null  float64\n",
      " 22  FTA                18414 non-null  float64\n",
      " 23  FT_PCT             18414 non-null  float64\n",
      " 24  OREB               18414 non-null  float64\n",
      " 25  DREB               18414 non-null  float64\n",
      " 26  REB                18414 non-null  float64\n",
      " 27  AST                18414 non-null  float64\n",
      " 28  STL                18414 non-null  float64\n",
      " 29  BLK                18414 non-null  float64\n",
      " 30  TOV                18414 non-null  float64\n",
      " 31  PF                 18414 non-null  float64\n",
      " 32  PLUS_MINUS         18414 non-null  float64\n",
      " 33  home               18414 non-null  object \n",
      " 34  not paired         18415 non-null  float64\n",
      "dtypes: float64(26), object(9)\n",
      "memory usage: 4.9+ MB\n"
     ]
    }
   ],
   "source": [
    "# Load the data and see what it looks like\n",
    "\n",
    "NBA = pd.read_csv('../../Data/NBA_Games.csv')\n",
    "\n",
    "NBA.info()"
   ]
  },
  {
   "cell_type": "code",
   "execution_count": 4,
   "metadata": {},
   "outputs": [
    {
     "data": {
      "text/plain": [
       "0          W\n",
       "1          W\n",
       "2          L\n",
       "3          W\n",
       "4          L\n",
       "        ... \n",
       "18411      W\n",
       "18412      L\n",
       "18413      W\n",
       "18414    NaN\n",
       "18415    NaN\n",
       "Name: WL, Length: 18416, dtype: object"
      ]
     },
     "execution_count": 4,
     "metadata": {},
     "output_type": "execute_result"
    }
   ],
   "source": [
    "NBA['WL']"
   ]
  },
  {
   "cell_type": "code",
   "execution_count": null,
   "metadata": {},
   "outputs": [],
   "source": [
    "# The data consists of games played between 2013 and 2019. An important difference from the baseball and cricket data\n",
    "# is that here each game appears in two rows, one for each team. Each pair of rows are mirror images of each other.\n",
    "\n",
    "# The season is identified by the column SEASON_ID\n",
    "# Pre-season games have the prefix \"1\" before the year, regular season games have the prefix \"2\" \n",
    "# and postseason games have the prefix \"4\". We are going to look at the 2018 regular season and therefore\n",
    "# want games with the prefix \"2\"\n",
    "# We can use the command \".describe()\" to obtain descriptive statistics for our variables.\n",
    "\n",
    "NBAR18 = NBA[NBA.SEASON_ID == 22018]\n",
    "NBAR18.describe()"
   ]
  },
  {
   "cell_type": "code",
   "execution_count": null,
   "metadata": {},
   "outputs": [],
   "source": [
    "# We can list all the variable names\n",
    "\n",
    "print(NBAR18.columns.tolist())"
   ]
  },
  {
   "cell_type": "code",
   "execution_count": null,
   "metadata": {},
   "outputs": [],
   "source": [
    "# Many datasets contain missing variables. Missing variables in a column will usually cause operations to fail. \n",
    "# The command \".dropna()\" will eliminate missing variables. \n",
    "# Compare the counts of variables below after the .dropna() below to the counts in the cell above.\n",
    "\n",
    "NBAR18 = NBAR18.dropna()\n",
    "NBAR18.describe()"
   ]
  },
  {
   "cell_type": "code",
   "execution_count": null,
   "metadata": {},
   "outputs": [],
   "source": [
    "# The game result is the column labeled 'WL'. We create a variable which has a value of '1' if the team won, and zero if it lost.\n",
    "# This type of variable, where a condition (here winning) is either true (1) or not true (0) is called a \"dummy variable\".\n",
    "# We will encounter them frequently.\n",
    "\n",
    "NBAR18['result'] = np.where(NBAR18['WL']== 'W',1,0)\n",
    "NBAR18.describe()"
   ]
  },
  {
   "cell_type": "code",
   "execution_count": null,
   "metadata": {
    "scrolled": true
   },
   "outputs": [],
   "source": [
    "# For the Pythagorean Expectation we need only the result, points scored (PTS) and point conceded (PTSAGN).\n",
    "\n",
    "NBAteams18 = NBAR18.groupby('TEAM_NAME')['result','PTS','PTSAGN'].sum().reset_index()\n",
    "NBAteams18"
   ]
  },
  {
   "cell_type": "code",
   "execution_count": null,
   "metadata": {},
   "outputs": [],
   "source": [
    "# So now we can create the value for win percentage for each team in the 82 game season, and the Pythagorean Expectation.\n",
    "\n",
    "NBAteams18['wpc'] = NBAteams18['result']/82\n",
    "NBAteams18['pyth'] = NBAteams18['PTS']**2/(NBAteams18['PTS']**2 + NBAteams18['PTSAGN']**2)\n",
    "NBAteams18"
   ]
  },
  {
   "cell_type": "code",
   "execution_count": null,
   "metadata": {},
   "outputs": [],
   "source": [
    "# We now plot the data. Our results look very similar to the MLB case.\n",
    "\n",
    "sns.relplot(x=\"pyth\", y=\"wpc\", data = NBAteams18)"
   ]
  },
  {
   "cell_type": "markdown",
   "metadata": {},
   "source": [
    "## Self test\n",
    "\n",
    "run sns.relplot again, but this time write y=\"result\" instead of y=\"wpc\". What do you find? Does it make a difference?"
   ]
  },
  {
   "cell_type": "code",
   "execution_count": null,
   "metadata": {
    "scrolled": true
   },
   "outputs": [],
   "source": [
    "# Finally we run the regression: wpc = Intercept + coef x pyth\n",
    "# The coefficient of the variable pyth is strongly significant, and the R-Squared of the regression is close to 100%.\n",
    "\n",
    "pyth_lm = smf.ols(formula = 'wpc ~ pyth', data=NBAteams18).fit()\n",
    "pyth_lm.summary()"
   ]
  },
  {
   "cell_type": "markdown",
   "metadata": {},
   "source": [
    "## Self test\n",
    "\n",
    "Run the regression above but instead write 'wpc ~ result' instead of 'wpc ~ pyth' in the line starting pyth_lm. What difference does this make?"
   ]
  },
  {
   "cell_type": "markdown",
   "metadata": {},
   "source": [
    "# Conclusion\n",
    "\n",
    "We have found that the Pythagorean model fits the NBA data in roughly same way as it fits the MLB data. Let's now look at fourth example: English Premier League soccer.\n"
   ]
  },
  {
   "cell_type": "code",
   "execution_count": null,
   "metadata": {},
   "outputs": [],
   "source": []
  }
 ],
 "metadata": {
  "kernelspec": {
   "display_name": "Python 3",
   "language": "python",
   "name": "python3"
  },
  "language_info": {
   "codemirror_mode": {
    "name": "ipython",
    "version": 3
   },
   "file_extension": ".py",
   "mimetype": "text/x-python",
   "name": "python",
   "nbconvert_exporter": "python",
   "pygments_lexer": "ipython3",
   "version": "3.9.1"
  }
 },
 "nbformat": 4,
 "nbformat_minor": 2
}
