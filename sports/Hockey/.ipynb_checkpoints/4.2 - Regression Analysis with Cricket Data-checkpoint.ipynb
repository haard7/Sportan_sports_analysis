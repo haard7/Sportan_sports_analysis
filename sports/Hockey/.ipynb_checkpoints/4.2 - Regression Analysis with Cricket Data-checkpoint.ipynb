{
 "cells": [
  {
   "cell_type": "markdown",
   "metadata": {},
   "source": [
    "# Regression Analyses with Cricket Data\n",
    "\n",
    "In week 1, we took a brief look at the cricket match of statistics of the Indian Premier league in 2018 (IPL2018teams dataset). In this week, we will look at the player level statistics. In particular, we are interested in whether the player performance impact their salaries. "
   ]
  },
  {
   "cell_type": "markdown",
   "metadata": {},
   "source": [
    "### Import useful libraries\n"
   ]
  },
  {
   "cell_type": "code",
   "execution_count": 2,
   "metadata": {},
   "outputs": [],
   "source": [
    "import pandas as pd\n",
    "import numpy as np\n",
    "import matplotlib.pyplot as plt\n",
    "import seaborn as sns\n",
    "import statsmodels.formula.api as sm"
   ]
  },
  {
   "cell_type": "markdown",
   "metadata": {},
   "source": [
    "### Import cricket data\n",
    "In our data repository, there is a data set “IPL18Player.csv” which contains performance statistics as well as salary information of cricket players in the Indian Premier League in 2018.\n"
   ]
  },
  {
   "cell_type": "code",
   "execution_count": 3,
   "metadata": {},
   "outputs": [
    {
     "data": {
      "text/html": [
       "<div>\n",
       "<style scoped>\n",
       "    .dataframe tbody tr th:only-of-type {\n",
       "        vertical-align: middle;\n",
       "    }\n",
       "\n",
       "    .dataframe tbody tr th {\n",
       "        vertical-align: top;\n",
       "    }\n",
       "\n",
       "    .dataframe thead th {\n",
       "        text-align: right;\n",
       "    }\n",
       "</style>\n",
       "<table border=\"1\" class=\"dataframe\">\n",
       "  <thead>\n",
       "    <tr style=\"text-align: right;\">\n",
       "      <th></th>\n",
       "      <th>player_id</th>\n",
       "      <th>long_scorecard_name</th>\n",
       "      <th>Salary</th>\n",
       "      <th>team</th>\n",
       "      <th>matches</th>\n",
       "      <th>wins</th>\n",
       "      <th>team_runs_for</th>\n",
       "      <th>team_runs_against</th>\n",
       "      <th>matches_keeper</th>\n",
       "      <th>byes_conceded</th>\n",
       "      <th>...</th>\n",
       "      <th>bowling_dot_balls</th>\n",
       "      <th>bowling_sixes</th>\n",
       "      <th>no_balls</th>\n",
       "      <th>balls_bowled_1_to_6</th>\n",
       "      <th>runs_conceded_1_to_6</th>\n",
       "      <th>balls_bowled_7_to_14</th>\n",
       "      <th>runs_conceded_7_to_14</th>\n",
       "      <th>balls_bowled_15_to_20</th>\n",
       "      <th>runs_conceded_15_to_20</th>\n",
       "      <th>event_winner</th>\n",
       "    </tr>\n",
       "  </thead>\n",
       "  <tbody>\n",
       "    <tr>\n",
       "      <th>0</th>\n",
       "      <td>8931</td>\n",
       "      <td>AT Rayudu</td>\n",
       "      <td>343750.0</td>\n",
       "      <td>Chennai Super Kings</td>\n",
       "      <td>16</td>\n",
       "      <td>11</td>\n",
       "      <td>2809</td>\n",
       "      <td>2750</td>\n",
       "      <td>0</td>\n",
       "      <td>0</td>\n",
       "      <td>...</td>\n",
       "      <td>0</td>\n",
       "      <td>0</td>\n",
       "      <td>0</td>\n",
       "      <td>0</td>\n",
       "      <td>0</td>\n",
       "      <td>0</td>\n",
       "      <td>0</td>\n",
       "      <td>0</td>\n",
       "      <td>0</td>\n",
       "      <td>1</td>\n",
       "    </tr>\n",
       "    <tr>\n",
       "      <th>1</th>\n",
       "      <td>254771</td>\n",
       "      <td>D Shorey</td>\n",
       "      <td>31250.0</td>\n",
       "      <td>Chennai Super Kings</td>\n",
       "      <td>1</td>\n",
       "      <td>1</td>\n",
       "      <td>128</td>\n",
       "      <td>127</td>\n",
       "      <td>0</td>\n",
       "      <td>0</td>\n",
       "      <td>...</td>\n",
       "      <td>0</td>\n",
       "      <td>0</td>\n",
       "      <td>0</td>\n",
       "      <td>0</td>\n",
       "      <td>0</td>\n",
       "      <td>0</td>\n",
       "      <td>0</td>\n",
       "      <td>0</td>\n",
       "      <td>0</td>\n",
       "      <td>1</td>\n",
       "    </tr>\n",
       "    <tr>\n",
       "      <th>2</th>\n",
       "      <td>44613</td>\n",
       "      <td>DJ Bravo</td>\n",
       "      <td>1000000.0</td>\n",
       "      <td>Chennai Super Kings</td>\n",
       "      <td>16</td>\n",
       "      <td>11</td>\n",
       "      <td>2809</td>\n",
       "      <td>2750</td>\n",
       "      <td>0</td>\n",
       "      <td>0</td>\n",
       "      <td>...</td>\n",
       "      <td>90</td>\n",
       "      <td>29</td>\n",
       "      <td>0</td>\n",
       "      <td>0</td>\n",
       "      <td>0</td>\n",
       "      <td>126</td>\n",
       "      <td>160</td>\n",
       "      <td>195</td>\n",
       "      <td>373</td>\n",
       "      <td>1</td>\n",
       "    </tr>\n",
       "    <tr>\n",
       "      <th>3</th>\n",
       "      <td>214425</td>\n",
       "      <td>DJ Willey</td>\n",
       "      <td>NaN</td>\n",
       "      <td>Chennai Super Kings</td>\n",
       "      <td>3</td>\n",
       "      <td>2</td>\n",
       "      <td>484</td>\n",
       "      <td>483</td>\n",
       "      <td>0</td>\n",
       "      <td>0</td>\n",
       "      <td>...</td>\n",
       "      <td>20</td>\n",
       "      <td>3</td>\n",
       "      <td>0</td>\n",
       "      <td>24</td>\n",
       "      <td>38</td>\n",
       "      <td>6</td>\n",
       "      <td>10</td>\n",
       "      <td>30</td>\n",
       "      <td>47</td>\n",
       "      <td>1</td>\n",
       "    </tr>\n",
       "    <tr>\n",
       "      <th>4</th>\n",
       "      <td>258155</td>\n",
       "      <td>DL Chahar</td>\n",
       "      <td>125000.0</td>\n",
       "      <td>Chennai Super Kings</td>\n",
       "      <td>12</td>\n",
       "      <td>9</td>\n",
       "      <td>2117</td>\n",
       "      <td>2068</td>\n",
       "      <td>0</td>\n",
       "      <td>0</td>\n",
       "      <td>...</td>\n",
       "      <td>118</td>\n",
       "      <td>10</td>\n",
       "      <td>2</td>\n",
       "      <td>194</td>\n",
       "      <td>236</td>\n",
       "      <td>37</td>\n",
       "      <td>42</td>\n",
       "      <td>0</td>\n",
       "      <td>0</td>\n",
       "      <td>1</td>\n",
       "    </tr>\n",
       "  </tbody>\n",
       "</table>\n",
       "<p>5 rows × 35 columns</p>\n",
       "</div>"
      ],
      "text/plain": [
       "   player_id long_scorecard_name     Salary                 team  matches  \\\n",
       "0       8931           AT Rayudu   343750.0  Chennai Super Kings       16   \n",
       "1     254771            D Shorey    31250.0  Chennai Super Kings        1   \n",
       "2      44613            DJ Bravo  1000000.0  Chennai Super Kings       16   \n",
       "3     214425           DJ Willey        NaN  Chennai Super Kings        3   \n",
       "4     258155           DL Chahar   125000.0  Chennai Super Kings       12   \n",
       "\n",
       "   wins  team_runs_for  team_runs_against  matches_keeper  byes_conceded  ...  \\\n",
       "0    11           2809               2750               0              0  ...   \n",
       "1     1            128                127               0              0  ...   \n",
       "2    11           2809               2750               0              0  ...   \n",
       "3     2            484                483               0              0  ...   \n",
       "4     9           2117               2068               0              0  ...   \n",
       "\n",
       "   bowling_dot_balls  bowling_sixes  no_balls  balls_bowled_1_to_6  \\\n",
       "0                  0              0         0                    0   \n",
       "1                  0              0         0                    0   \n",
       "2                 90             29         0                    0   \n",
       "3                 20              3         0                   24   \n",
       "4                118             10         2                  194   \n",
       "\n",
       "   runs_conceded_1_to_6  balls_bowled_7_to_14  runs_conceded_7_to_14  \\\n",
       "0                     0                     0                      0   \n",
       "1                     0                     0                      0   \n",
       "2                     0                   126                    160   \n",
       "3                    38                     6                     10   \n",
       "4                   236                    37                     42   \n",
       "\n",
       "   balls_bowled_15_to_20  runs_conceded_15_to_20  event_winner  \n",
       "0                      0                       0             1  \n",
       "1                      0                       0             1  \n",
       "2                    195                     373             1  \n",
       "3                     30                      47             1  \n",
       "4                      0                       0             1  \n",
       "\n",
       "[5 rows x 35 columns]"
      ]
     },
     "execution_count": 3,
     "metadata": {},
     "output_type": "execute_result"
    }
   ],
   "source": [
    "IPLPlayer=pd.read_csv(\"../../Data/IPL18Player.csv\")\n",
    "IPLPlayer.head()"
   ]
  },
  {
   "cell_type": "markdown",
   "metadata": {},
   "source": [
    "## Data Exploration and Preparation"
   ]
  },
  {
   "cell_type": "code",
   "execution_count": 4,
   "metadata": {},
   "outputs": [
    {
     "data": {
      "text/plain": [
       "(149, 35)"
      ]
     },
     "execution_count": 4,
     "metadata": {},
     "output_type": "execute_result"
    }
   ],
   "source": [
    "IPLPlayer.shape"
   ]
  },
  {
   "cell_type": "markdown",
   "metadata": {},
   "source": [
    "### Missing Values"
   ]
  },
  {
   "cell_type": "code",
   "execution_count": 5,
   "metadata": {},
   "outputs": [
    {
     "name": "stdout",
     "output_type": "stream",
     "text": [
      "<class 'pandas.core.frame.DataFrame'>\n",
      "RangeIndex: 149 entries, 0 to 148\n",
      "Data columns (total 35 columns):\n",
      " #   Column                  Non-Null Count  Dtype  \n",
      "---  ------                  --------------  -----  \n",
      " 0   player_id               149 non-null    int64  \n",
      " 1   long_scorecard_name     149 non-null    object \n",
      " 2   Salary                  141 non-null    float64\n",
      " 3   team                    149 non-null    object \n",
      " 4   matches                 149 non-null    int64  \n",
      " 5   wins                    149 non-null    int64  \n",
      " 6   team_runs_for           149 non-null    int64  \n",
      " 7   team_runs_against       149 non-null    int64  \n",
      " 8   matches_keeper          149 non-null    int64  \n",
      " 9   byes_conceded           149 non-null    int64  \n",
      " 10  moms                    149 non-null    int64  \n",
      " 11  innings                 149 non-null    int64  \n",
      " 12  not_outs                149 non-null    int64  \n",
      " 13  runs                    149 non-null    int64  \n",
      " 14  balls_faced             149 non-null    int64  \n",
      " 15  fours                   149 non-null    int64  \n",
      " 16  sixes                   149 non-null    int64  \n",
      " 17  matches_bowled          149 non-null    int64  \n",
      " 18  balls_bowled            149 non-null    int64  \n",
      " 19  wickets                 149 non-null    int64  \n",
      " 20  runs_conceded           149 non-null    int64  \n",
      " 21  catches                 149 non-null    int64  \n",
      " 22  stumpings               149 non-null    int64  \n",
      " 23  run_outs                149 non-null    int64  \n",
      " 24  batting_dot_balls       149 non-null    int64  \n",
      " 25  bowling_dot_balls       149 non-null    int64  \n",
      " 26  bowling_sixes           149 non-null    int64  \n",
      " 27  no_balls                149 non-null    int64  \n",
      " 28  balls_bowled_1_to_6     149 non-null    int64  \n",
      " 29  runs_conceded_1_to_6    149 non-null    int64  \n",
      " 30  balls_bowled_7_to_14    149 non-null    int64  \n",
      " 31  runs_conceded_7_to_14   149 non-null    int64  \n",
      " 32  balls_bowled_15_to_20   149 non-null    int64  \n",
      " 33  runs_conceded_15_to_20  149 non-null    int64  \n",
      " 34  event_winner            149 non-null    int64  \n",
      "dtypes: float64(1), int64(32), object(2)\n",
      "memory usage: 40.9+ KB\n"
     ]
    }
   ],
   "source": [
    "IPLPlayer.info()"
   ]
  },
  {
   "cell_type": "markdown",
   "metadata": {},
   "source": [
    "_There are missing values in the salary variable. We will drop observations with missing values._"
   ]
  },
  {
   "cell_type": "code",
   "execution_count": 6,
   "metadata": {},
   "outputs": [
    {
     "data": {
      "text/plain": [
       "(141, 35)"
      ]
     },
     "execution_count": 6,
     "metadata": {},
     "output_type": "execute_result"
    }
   ],
   "source": [
    "IPLPlayer=IPLPlayer.dropna()\n",
    "IPLPlayer.shape"
   ]
  },
  {
   "cell_type": "markdown",
   "metadata": {},
   "source": [
    "## Create useful variables\n",
    "### Create dummy variables to indicate the role of the players.\n",
    "- Create a variable to indicate whether a player had played as a batsman.\n",
    "\n",
    " The variable \"innings\" indicates how many innings a player had batted in."
   ]
  },
  {
   "cell_type": "code",
   "execution_count": 11,
   "metadata": {},
   "outputs": [
    {
     "data": {
      "text/plain": [
       "count    141.000000\n",
       "mean       0.943262\n",
       "std        0.232165\n",
       "min        0.000000\n",
       "25%        1.000000\n",
       "50%        1.000000\n",
       "75%        1.000000\n",
       "max        1.000000\n",
       "Name: batsman, dtype: float64"
      ]
     },
     "execution_count": 11,
     "metadata": {},
     "output_type": "execute_result"
    }
   ],
   "source": [
    "IPLPlayer['batsman']=np.where(IPLPlayer['innings']> 0, 1, 0)\n",
    "IPLPlayer['batsman'].describe()"
   ]
  },
  {
   "cell_type": "markdown",
   "metadata": {},
   "source": [
    "- Create a variable to indicate bowler."
   ]
  },
  {
   "cell_type": "code",
   "execution_count": 8,
   "metadata": {},
   "outputs": [
    {
     "data": {
      "text/plain": [
       "count    141.000000\n",
       "mean       0.631206\n",
       "std        0.484198\n",
       "min        0.000000\n",
       "25%        0.000000\n",
       "50%        1.000000\n",
       "75%        1.000000\n",
       "max        1.000000\n",
       "Name: bowler, dtype: float64"
      ]
     },
     "execution_count": 8,
     "metadata": {},
     "output_type": "execute_result"
    }
   ],
   "source": [
    "IPLPlayer['bowler']=np.where(IPLPlayer['matches_bowled']> 0, 1, 0)\n",
    "IPLPlayer['bowler'].describe()"
   ]
  },
  {
   "cell_type": "markdown",
   "metadata": {},
   "source": [
    "The last type of player that is not captured by either batsman or bowler is wicket keeper. In the dataset, the variable \"matches_keeper\" indicates the number of matches that a player is a wicket keeper.\n"
   ]
  },
  {
   "cell_type": "markdown",
   "metadata": {},
   "source": [
    "### Performance Measures\n",
    "1. batting average = runs / the numbers of outs\n",
    "2. batting strike rate = (runs * 100) / balls faced\n",
    "3. bowling average = runs conceded / wicket taken\n",
    "4. bowling strike rate = number of balls bowled / wicket taken\n",
    "\n",
    "_Notice that if a batsman has scored runs but not been dismissed, his batting average is technically infinite. Similarly, if a player did not face any ball, his batting strike would be infinite and if a player did not lose any wicket, his bowling average or bowling strike would be infinite._\n",
    "\n",
    "We will not be able to run a regression when our variables have some infinite values.\n",
    "\n",
    "There are two alternatives we will consider to deal with this issue.\n",
    "1. Add 1 to the number of outs, balls faced, andn wickets taken in calculating the above variables.\n",
    "2. Instead of creating the above measures, we can simply include total runs, total number of outs, and balls faced to measure a batsman's performance, and include runs conceded, number of balls bowled, and wickets taken to measure a bowler's performance."
   ]
  },
  {
   "cell_type": "code",
   "execution_count": null,
   "metadata": {},
   "outputs": [],
   "source": [
    "IPLPlayer['outs']=np.where(IPLPlayer['batsman']==1, IPLPlayer['innings']-IPLPlayer['not_outs'], 0)\n",
    "IPLPlayer['outs'].describe()"
   ]
  },
  {
   "cell_type": "markdown",
   "metadata": {},
   "source": [
    "Create batting average, batting strke rate, bowling average, and bowling strike rate variables. Add 1 to the number of outs, balls faced, andn wickets taken in calculating these variables."
   ]
  },
  {
   "cell_type": "code",
   "execution_count": null,
   "metadata": {},
   "outputs": [],
   "source": [
    "IPLPlayer['batting_average']=IPLPlayer['runs']/(IPLPlayer['outs']+1)\n",
    "IPLPlayer['batting_strike']=IPLPlayer['runs']/((IPLPlayer['balls_faced']+1))*100\n",
    "IPLPlayer['bowling_average']=IPLPlayer['runs_conceded']/(IPLPlayer['wickets']+1)\n",
    "IPLPlayer['bowling_strike']=IPLPlayer['balls_bowled']/(IPLPlayer['wickets']+1)"
   ]
  },
  {
   "cell_type": "code",
   "execution_count": null,
   "metadata": {},
   "outputs": [],
   "source": [
    "IPLPlayer['batting_average'].describe()"
   ]
  },
  {
   "cell_type": "code",
   "execution_count": null,
   "metadata": {},
   "outputs": [],
   "source": [
    "IPLPlayer['batting_strike'].describe()"
   ]
  },
  {
   "cell_type": "code",
   "execution_count": null,
   "metadata": {},
   "outputs": [],
   "source": [
    "IPLPlayer['bowling_average'].describe()"
   ]
  },
  {
   "cell_type": "code",
   "execution_count": null,
   "metadata": {},
   "outputs": [],
   "source": [
    "IPLPlayer['bowling_strike'].describe()"
   ]
  },
  {
   "cell_type": "markdown",
   "metadata": {},
   "source": [
    "## Regression Analyses\n",
    "### First let's run a regression of the salary on the type of player, batsman, bowler, and all-rounder."
   ]
  },
  {
   "cell_type": "code",
   "execution_count": null,
   "metadata": {
    "scrolled": true
   },
   "outputs": [],
   "source": [
    "reg_IPL1=sm.ols(formula = 'Salary ~ batsman+ bowler+ batsman*bowler', data= IPLPlayer, missing=\"drop\").fit()\n",
    "print(reg_IPL1.summary())"
   ]
  },
  {
   "cell_type": "markdown",
   "metadata": {},
   "source": [
    "### Next we will first focus on performance of batsman.\n",
    "We will first simply use the total number of runs, number of not outs, and number of balls faced to measure players’ performance."
   ]
  },
  {
   "cell_type": "code",
   "execution_count": null,
   "metadata": {},
   "outputs": [],
   "source": [
    "reg_IPL2=sm.ols(formula = 'Salary ~ runs', data= IPLPlayer).fit()\n",
    "print(reg_IPL2.summary())"
   ]
  },
  {
   "cell_type": "code",
   "execution_count": null,
   "metadata": {},
   "outputs": [],
   "source": [
    "reg_IPL3=sm.ols(formula = 'Salary ~ runs+not_outs', data= IPLPlayer).fit()\n",
    "print(reg_IPL3.summary())"
   ]
  },
  {
   "cell_type": "code",
   "execution_count": null,
   "metadata": {},
   "outputs": [],
   "source": [
    "reg_IPL4=sm.ols(formula = 'Salary ~ runs+not_outs+balls_faced', data= IPLPlayer).fit()\n",
    "print(reg_IPL4.summary())"
   ]
  },
  {
   "cell_type": "markdown",
   "metadata": {},
   "source": [
    "In the next regressions, we will use the modified batting average and batting strike variables to measure player performance."
   ]
  },
  {
   "cell_type": "code",
   "execution_count": null,
   "metadata": {},
   "outputs": [],
   "source": [
    "reg_IPL5=sm.ols(formula = 'Salary ~ batting_average', data= IPLPlayer).fit()\n",
    "print(reg_IPL5.summary())"
   ]
  },
  {
   "cell_type": "code",
   "execution_count": null,
   "metadata": {},
   "outputs": [],
   "source": [
    "reg_IPL6=sm.ols(formula = 'Salary ~ batting_average+batting_strike', data= IPLPlayer).fit()\n",
    "print(reg_IPL6.summary())"
   ]
  },
  {
   "cell_type": "markdown",
   "metadata": {},
   "source": [
    "### We will now turn to bowlers' performance.\n",
    "\n",
    "Again, we will first use number of runs conceded, number of balls bowled, and number of wickets taken to measure bowlers' performance."
   ]
  },
  {
   "cell_type": "code",
   "execution_count": null,
   "metadata": {},
   "outputs": [],
   "source": [
    "reg_IPL7=sm.ols(formula = 'Salary ~ runs_conceded', data= IPLPlayer).fit()\n",
    "print(reg_IPL7.summary())"
   ]
  },
  {
   "cell_type": "code",
   "execution_count": null,
   "metadata": {},
   "outputs": [],
   "source": [
    "reg_IPL8=sm.ols(formula = 'Salary ~ runs_conceded+balls_bowled', data= IPLPlayer).fit()\n",
    "print(reg_IPL8.summary())"
   ]
  },
  {
   "cell_type": "code",
   "execution_count": null,
   "metadata": {},
   "outputs": [],
   "source": [
    "reg_IPL9=sm.ols(formula = 'Salary ~ runs_conceded+balls_bowled+wickets', data= IPLPlayer).fit()\n",
    "print(reg_IPL9.summary())"
   ]
  },
  {
   "cell_type": "markdown",
   "metadata": {},
   "source": [
    "In the next regression, we will use the modified bowling average and bowling strike variables to measure player performance."
   ]
  },
  {
   "cell_type": "code",
   "execution_count": null,
   "metadata": {},
   "outputs": [],
   "source": [
    "reg_IPL10=sm.ols(formula = 'Salary ~ bowling_average+bowling_strike', data= IPLPlayer).fit()\n",
    "print(reg_IPL10.summary())"
   ]
  },
  {
   "cell_type": "markdown",
   "metadata": {},
   "source": [
    "### Lastly, we will incorporate performance measures of both batsman and bowler in the same regression.\n",
    "We will first use the original variables, total number of runs, number of not outs, number of balls faced, number of runs conceded, number of balls bowled, and number of wickets in the regression."
   ]
  },
  {
   "cell_type": "code",
   "execution_count": null,
   "metadata": {},
   "outputs": [],
   "source": [
    "reg_IPL11=sm.ols(formula = 'Salary ~ runs+not_outs+balls_faced+runs_conceded+balls_bowled+wickets', data= IPLPlayer).fit()\n",
    "print(reg_IPL11.summary())"
   ]
  },
  {
   "cell_type": "markdown",
   "metadata": {},
   "source": [
    "We will also use the modified batting average, batting strike, bowling average, and bowling strike variables to measure the player performance."
   ]
  },
  {
   "cell_type": "code",
   "execution_count": null,
   "metadata": {},
   "outputs": [],
   "source": [
    "reg_IPL12=sm.ols(formula = 'Salary ~ batting_average+batting_strike+bowling_average+bowling_strike', data= IPLPlayer).fit()\n",
    "print(reg_IPL12.summary())"
   ]
  },
  {
   "cell_type": "markdown",
   "metadata": {},
   "source": [
    "## Self Test\n",
    "- Run a regression of salary as a function of the interaction of batsman and runs and the interaction of bowler and wickets taken.\n",
    "- Interpret your regression results."
   ]
  },
  {
   "cell_type": "code",
   "execution_count": null,
   "metadata": {},
   "outputs": [],
   "source": []
  }
 ],
 "metadata": {
  "kernelspec": {
   "display_name": "Python 3",
   "language": "python",
   "name": "python3"
  },
  "language_info": {
   "codemirror_mode": {
    "name": "ipython",
    "version": 3
   },
   "file_extension": ".py",
   "mimetype": "text/x-python",
   "name": "python",
   "nbconvert_exporter": "python",
   "pygments_lexer": "ipython3",
   "version": "3.9.1"
  }
 },
 "nbformat": 4,
 "nbformat_minor": 2
}
