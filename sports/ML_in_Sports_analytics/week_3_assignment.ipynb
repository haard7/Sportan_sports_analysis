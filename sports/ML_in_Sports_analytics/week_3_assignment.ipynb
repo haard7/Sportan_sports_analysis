{
 "cells": [
  {
   "cell_type": "code",
   "execution_count": 1,
   "id": "accompanied-consideration",
   "metadata": {},
   "outputs": [],
   "source": [
    "import pandas as pd\n",
    "import numpy as np\n",
    "from sklearn.model_selection import GridSearchCV\n",
    "from sklearn.tree import DecisionTreeClassifier"
   ]
  },
  {
   "cell_type": "code",
   "execution_count": 5,
   "id": "confidential-removal",
   "metadata": {},
   "outputs": [],
   "source": [
    "df = pd.read_csv('assets/observations.csv')"
   ]
  },
  {
   "cell_type": "code",
   "execution_count": 6,
   "id": "biological-imagination",
   "metadata": {},
   "outputs": [
    {
     "data": {
      "text/plain": [
       "(1188, 61)"
      ]
     },
     "execution_count": 6,
     "metadata": {},
     "output_type": "execute_result"
    }
   ],
   "source": [
    "df = df.dropna()\n",
    "df = df.drop('Unnamed: 0', axis=1)\n",
    "df.shape"
   ]
  },
  {
   "cell_type": "code",
   "execution_count": 10,
   "id": "exotic-auckland",
   "metadata": {},
   "outputs": [],
   "source": [
    "df_train = df[:800]\n",
    "df_test = df[800:]"
   ]
  },
  {
   "cell_type": "code",
   "execution_count": 11,
   "id": "driven-travel",
   "metadata": {},
   "outputs": [],
   "source": [
    "x_train = df_train.drop('outcome_categorical', axis= 1)\n",
    "y_train = df_train[['outcome_categorical']]\n",
    "x_test = df_test.drop('outcome_categorical', axis= 1)\n",
    "y_test = df_test[['outcome_categorical']]"
   ]
  },
  {
   "cell_type": "code",
   "execution_count": 12,
   "id": "bored-journey",
   "metadata": {},
   "outputs": [],
   "source": [
    "estimator = DecisionTreeClassifier(random_state = 1337)\n",
    "param_grid = {'max_depth': (3,4,5,6,7,8,9,10), 'min_samples_leaf': (1,5,10,15,20,25)}\n",
    "cv = 10\n",
    "scoring = 'accuracy'"
   ]
  },
  {
   "cell_type": "code",
   "execution_count": 13,
   "id": "coordinated-ocean",
   "metadata": {},
   "outputs": [],
   "source": [
    "reg = GridSearchCV(estimator = estimator, param_grid = param_grid, scoring = scoring, cv=cv)\n"
   ]
  },
  {
   "cell_type": "code",
   "execution_count": 14,
   "id": "handed-moisture",
   "metadata": {},
   "outputs": [
    {
     "data": {
      "text/plain": [
       "GridSearchCV(cv=10, estimator=DecisionTreeClassifier(random_state=1337),\n",
       "             param_grid={'max_depth': (3, 4, 5, 6, 7, 8, 9, 10),\n",
       "                         'min_samples_leaf': (1, 5, 10, 15, 20, 25)},\n",
       "             scoring='accuracy')"
      ]
     },
     "execution_count": 14,
     "metadata": {},
     "output_type": "execute_result"
    }
   ],
   "source": [
    "reg.fit(x_train,y_train)"
   ]
  },
  {
   "cell_type": "code",
   "execution_count": 15,
   "id": "brave-cornwall",
   "metadata": {},
   "outputs": [
    {
     "data": {
      "text/plain": [
       "{'max_depth': 6, 'min_samples_leaf': 10}"
      ]
     },
     "execution_count": 15,
     "metadata": {},
     "output_type": "execute_result"
    }
   ],
   "source": [
    "reg.best_params_"
   ]
  },
  {
   "cell_type": "code",
   "execution_count": 16,
   "id": "meaning-certificate",
   "metadata": {},
   "outputs": [
    {
     "data": {
      "text/plain": [
       "0.49226804123711343"
      ]
     },
     "execution_count": 16,
     "metadata": {},
     "output_type": "execute_result"
    }
   ],
   "source": [
    "reg.best_estimator_.score(x_test, y_test)"
   ]
  },
  {
   "cell_type": "code",
   "execution_count": null,
   "id": "sublime-edgar",
   "metadata": {},
   "outputs": [],
   "source": []
  }
 ],
 "metadata": {
  "kernelspec": {
   "display_name": "Python 3",
   "language": "python",
   "name": "python3"
  },
  "language_info": {
   "codemirror_mode": {
    "name": "ipython",
    "version": 3
   },
   "file_extension": ".py",
   "mimetype": "text/x-python",
   "name": "python",
   "nbconvert_exporter": "python",
   "pygments_lexer": "ipython3",
   "version": "3.9.1"
  }
 },
 "nbformat": 4,
 "nbformat_minor": 5
}
